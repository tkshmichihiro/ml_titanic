{
  "nbformat": 4,
  "nbformat_minor": 0,
  "metadata": {
    "colab": {
      "name": "Titanic_01.ipynb",
      "version": "0.3.2",
      "provenance": [],
      "include_colab_link": true
    },
    "kernelspec": {
      "name": "python3",
      "display_name": "Python 3"
    }
  },
  "cells": [
    {
      "cell_type": "markdown",
      "metadata": {
        "id": "view-in-github",
        "colab_type": "text"
      },
      "source": [
        "<a href=\"https://colab.research.google.com/github/tkshmichihiro/ml_titanic/blob/master/Titanic_01.ipynb\" target=\"_parent\"><img src=\"https://colab.research.google.com/assets/colab-badge.svg\" alt=\"Open In Colab\"/></a>"
      ]
    },
    {
      "cell_type": "code",
      "metadata": {
        "id": "OiT9rYlqtVr-",
        "colab_type": "code",
        "outputId": "35270cdb-0745-48ab-cf34-77ff7457a6a8",
        "colab": {
          "resources": {
            "http://localhost:8080/nbextensions/google.colab/files.js": {
              "data": "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",
              "ok": true,
              "headers": [
                [
                  "content-type",
                  "application/javascript"
                ]
              ],
              "status": 200,
              "status_text": "OK"
            }
          },
          "base_uri": "https://localhost:8080/",
          "height": 129
        }
      },
      "source": [
        "import pandas\n",
        "import numpy\n",
        "import matplotlib\n",
        "import sklearn\n",
        "\n",
        "print(pandas.__version__)\n",
        "print(numpy.__version__)\n",
        "print(matplotlib.__version__)\n",
        "print(sklearn.__version__)\n",
        "\n",
        "#Upload files to Google Colab\n",
        "from google.colab import files\n",
        "uploaded = files.upload()\n",
        "\n"
      ],
      "execution_count": 3,
      "outputs": [
        {
          "output_type": "stream",
          "text": [
            "0.24.2\n",
            "1.16.3\n",
            "3.0.3\n",
            "0.20.3\n"
          ],
          "name": "stdout"
        },
        {
          "output_type": "display_data",
          "data": {
            "text/html": [
              "\n",
              "     <input type=\"file\" id=\"files-88c665f2-c4df-4684-bb5c-29f0bcb1c9df\" name=\"files[]\" multiple disabled />\n",
              "     <output id=\"result-88c665f2-c4df-4684-bb5c-29f0bcb1c9df\">\n",
              "      Upload widget is only available when the cell has been executed in the\n",
              "      current browser session. Please rerun this cell to enable.\n",
              "      </output>\n",
              "      <script src=\"/nbextensions/google.colab/files.js\"></script> "
            ],
            "text/plain": [
              "<IPython.core.display.HTML object>"
            ]
          },
          "metadata": {
            "tags": []
          }
        }
      ]
    },
    {
      "cell_type": "markdown",
      "metadata": {
        "id": "NMiBsR9Z8PEd",
        "colab_type": "text"
      },
      "source": [
        ""
      ]
    },
    {
      "cell_type": "code",
      "metadata": {
        "id": "JVXy9HDAvJBS",
        "colab_type": "code",
        "outputId": "5424d23c-3ca3-48e4-82ec-df279c51d91e",
        "colab": {
          "base_uri": "https://localhost:8080/",
          "height": 1285
        }
      },
      "source": [
        "#Data processing library\n",
        "import pandas as pd\n",
        "import numpy as np\n",
        "\n",
        "#Data visualize library\n",
        "import matplotlib.pyplot as plt\n",
        "\n",
        "#Machine learing library\n",
        "from sklearn.preprocessing import LabelEncoder\n",
        "from sklearn.metrics import accuracy_score\n",
        "from sklearn.model_selection import GridSearchCV\n",
        "from sklearn.model_selection import cross_val_score\n",
        "from sklearn.linear_model import LogisticRegression\n",
        "from sklearn.ensemble import RandomForestClassifier\n",
        "from sklearn.svm import SVC\n",
        "\n",
        "train_set = pd.read_csv('train.csv')\n",
        "test_set = pd.read_csv('test.csv')\n",
        "\n",
        "\n",
        "\n",
        "fig = plt.figure(figsize=(12,4))\n",
        "ax1 = fig.add_subplot(121)\n",
        "ax2 = fig.add_subplot(122)\n",
        "\n",
        "#Survival rate for PClass\n",
        "PClassPlot = train_set['Survived'].groupby(train_set['Pclass']).mean()\n",
        "ax1.bar(x=PClassPlot.index, height=PClassPlot.values)\n",
        "ax1.set_ylabel('Survival Rate')\n",
        "ax1.set_xlabel('PClass')\n",
        "ax1.set_xticks(PClassPlot.index)\n",
        "ax1.set_yticks(np.arange(0,1.1,.1))\n",
        "ax1.set_title(\"Class and Survival Rate\")\n",
        "\n",
        "#Survival rate for sex\n",
        "GenderPlot = train_set['Survived'].groupby(train_set['Sex']).mean()\n",
        "ax2.bar(x=GenderPlot.index, height=GenderPlot.values)\n",
        "ax2.set_ylabel('Survived Rate')\n",
        "ax2.set_xlabel('Gender')\n",
        "ax2.set_xticks(GenderPlot.index)\n",
        "ax2.set_yticks(np.arange(0,1.1,.1))\n",
        "ax2.set_title('Gender and Suvival Rate')\n",
        "\n",
        "fig = plt.figure(figsize=(12,4))\n",
        "ax1 = fig.add_subplot(121)\n",
        "ax2 = fig.add_subplot(122)\n",
        "\n",
        "#SibSp (num of sibline and num of Spouse)\n",
        "SiblingPlot = train_set['Survived'].groupby(train_set['SibSp']).mean()\n",
        "ax1.bar(x=SiblingPlot.index, height=SiblingPlot.values)\n",
        "ax1.set_ylabel('Survive Rate')\n",
        "ax1.set_xlabel('Total Siblings')\n",
        "ax1.set_xticks(SiblingPlot.index)\n",
        "ax1.set_yticks(np.arange(0,1.1,.1))\n",
        "ax1.set_title('Total Siblings and Survival Rate')\n",
        "\n",
        "#Parch (num of parents/childlen)\n",
        "ParchPlot = train_set['Survived'].groupby(train_set['Parch']).mean()\n",
        "ax2.bar(x=ParchPlot.index, height=ParchPlot.values, width = .8, color='Teal')\n",
        "ax2.set_ylabel('Survival Rate')\n",
        "ax2.set_xlabel('Number of Parents and Children abroad')\n",
        "ax2.set_xticks(ParchPlot.index)\n",
        "ax2.set_yticks(np.arange(0,1.1,.1))\n",
        "ax2.set_title('Number of Parents and Children abroad and Survival Rate')\n",
        "\n",
        "\n",
        "train_set['Age'].fillna(train_set['Age'].median(), inplace=True)\n",
        "train_set['Embarked'].fillna('C', inplace=True)\n",
        "labelencoder=LabelEncoder()\n",
        "train_set['Sex'] = labelencoder.fit_transform(train_set['Sex'])\n",
        "train_set.isnull().sum()\n",
        "train_set['Sex'].head()\n",
        "\n",
        "#Embarked (Departed port) Transfar it to a dummy valuable\n",
        "Embarked = pd.get_dummies(train_set['Embarked'], drop_first=True)\n",
        "#Embarked.colums = ['Embarked-Q', 'Embarked-S']\n",
        "\n",
        "#PClass (Customer Cluss) Transfar it to a dummiy valuable\n",
        "Pclass = pd.get_dummies(train_set['Pclass'], drop_first=True)\n",
        "#Pclass.colums = ['PClass2', 'PClass3']\n",
        "\n",
        "#Check Embarked\n",
        "#Embarked.head()\n",
        "\n",
        "#Split the Aage into 4 classes\n",
        "train_set['Age_Cat'] = pd.qcut(train_set['Age'],4)\n",
        "AgePlot = train_set['Survived'].groupby(train_set['Age_Cat']).mean()\n",
        "AgePlot\n",
        "\n",
        "#Split the fare into 6 classes\n",
        "train_set['Fare_Cat'] = pd.qcut(train_set['Fare'], 6)\n",
        "FarePlot = train_set['Survived'].groupby(train_set['Fare_Cat']).mean()\n",
        "FarePlot\n",
        "\n",
        "#SibSP and Parch total\n",
        "train_set['Total Family'] = train_set['SibSp'] + train_set['Parch']\n",
        "FamilyPlot = train_set['Survived'].groupby(train_set['Total Family']).mean()\n",
        "FamilyPlot\n",
        "\n",
        "#See if the customer is alone or not\n",
        "train_set['Alone'] = np.where(train_set['Total Family']==0,1,0)\n",
        "AlonePlot = train_set['Survived'].groupby(train_set['Alone']).mean()\n",
        "AlonePlot\n",
        "\n",
        "#Get honoric from the name\n",
        "train_set['Title'] = train_set.Name.str.extract(r',\\s*([^\\.]*)\\s*\\.', expand=False)\n",
        "train_set['Title'].unique()\n",
        "\n",
        "Mr = ['Mr']\n",
        "Crew1 = ['Don', 'Rev', 'Capt']\n",
        "Crew2 = ['Major', 'Col', 'Dr']\n",
        "Women_Masters = ['Mrs', 'Miss', 'Master']\n",
        "Affluence = ['Mme', 'Ms', 'Lady', 'Sir', 'Mlle', 'the Countess', 'Jonkheer']\n",
        "\n",
        "train_set['Title_Group'] = np.where(train_set['Title'] == Mr[0], 'Mr', 'Affluence')\n",
        "train_set['Title_Group'] = np.where(train_set['Title'].isin(Crew1), 'Crew1',train_set['Title_Group'])\n",
        "train_set['Title_Group'] = np.where(train_set['Title'].isin(Crew2), 'Crew2', train_set['Title_Group'])\n",
        "train_set['Title_Group'] = np.where(train_set['Title'].isin(Women_Masters), 'Women_Masters', train_set['Title_Group'])\n",
        "train_set['Title_Group'] = np.where(train_set['Title'].isin(Affluence), 'Affluence', train_set['Title_Group'])\n",
        "\n",
        "TitlePlot = train_set['Survived'].groupby(train_set['Title_Group']).mean()\n",
        "TitlePlot\n",
        "\n",
        "train_set['Age_Cat'] = pd.qcut(train_set['Age'],4,labels = ['Age Group 1', 'Age Group 2', 'Age Group 3', 'Age Group 4'])\n",
        "train_set['Fare_Cat'] = pd.qcut(train_set['Fare'],6,labels = ['Fare Group 1', 'Fare Group 2', 'Fare Group 3', 'Fare Group 4','Fare Group 5', 'Fare Group 6'])\n",
        "\n",
        "Age = pd.get_dummies(train_set['Age_Cat'], drop_first=True)\n",
        "Fare = pd.get_dummies(train_set['Fare_Cat'], drop_first=True)\n",
        "Title_Groups = pd.get_dummies(train_set['Title_Group'], drop_first=True)\n",
        "\n",
        "train_set = pd.concat([train_set, Pclass, Embarked, Age, Fare,Title_Groups], axis=1)\n",
        "\n",
        "#Put all the data to train_set\n",
        "train_set = train_set.drop(columns = ['PassengerId', 'Pclass', 'Name', 'Embarked', 'Fare', 'Ticket', 'Cabin', 'Age', 'Age_Cat', 'Fare_Cat', 'Title', 'Title_Group'])\n",
        "\n",
        "train_set.columns\n",
        "\n",
        "x_train = train_set.drop(columns='Survived')\n",
        "y_train = train_set['Survived']\n",
        "\n",
        "### test set pre operation\n",
        "\n",
        "#fill the lacked info\n",
        "test_set['Age'].fillna(test_set['Age'].median(), inplace=True)\n",
        "test_set['Fare'].fillna(test_set['Fare'].median(), inplace=True)\n",
        "\n",
        "#Set Sex value as a numerical value\n",
        "test_set['Sex'] = labelencoder.fit_transform(test_set['Sex'])\n",
        "\n",
        "#PClass and Embarked into dummy value\n",
        "test_Pclass = pd.get_dummies(test_set['Pclass'], drop_first=True)\n",
        "test_Embarked = pd.get_dummies(test_set['Embarked'], drop_first=True)\n",
        "\n",
        "# Feature recognition\n",
        "test_set['Age_Cat'] = pd.qcut(test_set['Age'],4)\n",
        "Age_cat = pd.get_dummies(test_set['Age_Cat'], drop_first=True)\n",
        "#Age_cat.colmuns = ['Age Group 2', 'Age Group 3' , 'Age Group 4']\n",
        "test_set['Fare_Cat'] = pd.qcut(test_set['Fare'], 6)\n",
        "Fare_cat = pd.get_dummies(test_set['Fare_Cat'], drop_first=True)\n",
        "#Fare_cat.columns = ['Fare Group 2', 'Fare Group 3', 'Fare Group 4', 'Fare Group 5' ,'Fare Group 6']\n",
        "test_set['Total Family'] = test_set['SibSp'] + test_set['Parch']\n",
        "test_set['Alone'] = np.where(test_set['Total Family']==0, 1 ,0)\n",
        "test_set['Title'] = test_set.Name.str.extract(r',\\s*([^\\.]*)\\s*\\.', expand=False)\n",
        "\n",
        "test_set['Title_Group'] = np.where(test_set['Title'] == Mr[0], 'Mr', 'Affluence')\n",
        "test_set['Title_Group'] = np.where(test_set['Title'].isin(Crew1), 'Crew1',test_set['Title_Group'])\n",
        "test_set['Title_Group'] = np.where(test_set['Title'].isin(Crew2), 'Crew2', test_set['Title_Group'])\n",
        "test_set['Title_Group'] = np.where(test_set['Title'].isin(Women_Masters), 'Women_Masters', test_set['Title_Group'])\n",
        "test_set['Title_Group'] = np.where(test_set['Title'].isin(Affluence), 'Affluence', test_set['Title_Group'])\n",
        "\n",
        "Title_Groups_test = pd.get_dummies(test_set['Title_Group'], drop_first=True)\n",
        "\n",
        "test_set = pd.concat([test_set, test_Pclass, test_Embarked, Age_cat, Fare_cat,Title_Groups_test], axis=1)\n",
        "PassengerID = test_set['PassengerId']\n",
        "test_set = test_set.drop(columns = ['Fare', 'Fare_Cat', 'Age_Cat', 'Age', 'Name', 'Pclass', 'Ticket', 'Cabin', 'PassengerId', 'Embarked', 'Title_Group', 'Title'])\n",
        "\n",
        "LR = LogisticRegression()\n",
        "RF = RandomForestClassifier()\n",
        "SVM = SVC()\n",
        "\n",
        "scores = []\n",
        "modelnames = ['Logistec Regression', 'Random Forest', 'Support Vector Machine']\n",
        "models = [LR,RF,SVM]\n",
        "\n",
        "for i in models:\n",
        "  score = cross_val_score(i, x_train, y_train, scoring = 'accuracy' , cv = 5).mean()\n",
        "  scores.append(score)\n",
        "\n",
        "\n",
        "pd.DataFrame(scores, index=modelnames,columns=['CV Scores']).sort_values(by = 'CV Scores', ascending=False)\n",
        "\n",
        "#RF.fit(x_train, y_train)\n",
        "#y_pred = RF.predict(test_set)\n",
        "\n",
        "#my_solution = pd.DataFrame({'PassengerId':PassengerID, 'Survived':y_pred})\n",
        "#my_solution = my_solution.set_index('PassengerId')\n",
        "#my_solution.to_csv('submit.csv')\n"
      ],
      "execution_count": 17,
      "outputs": [
        {
          "output_type": "stream",
          "text": [
            "/usr/local/lib/python3.6/dist-packages/sklearn/linear_model/logistic.py:433: FutureWarning: Default solver will be changed to 'lbfgs' in 0.22. Specify a solver to silence this warning.\n",
            "  FutureWarning)\n",
            "/usr/local/lib/python3.6/dist-packages/sklearn/linear_model/logistic.py:433: FutureWarning: Default solver will be changed to 'lbfgs' in 0.22. Specify a solver to silence this warning.\n",
            "  FutureWarning)\n",
            "/usr/local/lib/python3.6/dist-packages/sklearn/linear_model/logistic.py:433: FutureWarning: Default solver will be changed to 'lbfgs' in 0.22. Specify a solver to silence this warning.\n",
            "  FutureWarning)\n",
            "/usr/local/lib/python3.6/dist-packages/sklearn/linear_model/logistic.py:433: FutureWarning: Default solver will be changed to 'lbfgs' in 0.22. Specify a solver to silence this warning.\n",
            "  FutureWarning)\n",
            "/usr/local/lib/python3.6/dist-packages/sklearn/linear_model/logistic.py:433: FutureWarning: Default solver will be changed to 'lbfgs' in 0.22. Specify a solver to silence this warning.\n",
            "  FutureWarning)\n",
            "/usr/local/lib/python3.6/dist-packages/sklearn/ensemble/forest.py:246: FutureWarning: The default value of n_estimators will change from 10 in version 0.20 to 100 in 0.22.\n",
            "  \"10 in version 0.20 to 100 in 0.22.\", FutureWarning)\n",
            "/usr/local/lib/python3.6/dist-packages/sklearn/ensemble/forest.py:246: FutureWarning: The default value of n_estimators will change from 10 in version 0.20 to 100 in 0.22.\n",
            "  \"10 in version 0.20 to 100 in 0.22.\", FutureWarning)\n",
            "/usr/local/lib/python3.6/dist-packages/sklearn/ensemble/forest.py:246: FutureWarning: The default value of n_estimators will change from 10 in version 0.20 to 100 in 0.22.\n",
            "  \"10 in version 0.20 to 100 in 0.22.\", FutureWarning)\n",
            "/usr/local/lib/python3.6/dist-packages/sklearn/ensemble/forest.py:246: FutureWarning: The default value of n_estimators will change from 10 in version 0.20 to 100 in 0.22.\n",
            "  \"10 in version 0.20 to 100 in 0.22.\", FutureWarning)\n",
            "/usr/local/lib/python3.6/dist-packages/sklearn/ensemble/forest.py:246: FutureWarning: The default value of n_estimators will change from 10 in version 0.20 to 100 in 0.22.\n",
            "  \"10 in version 0.20 to 100 in 0.22.\", FutureWarning)\n",
            "/usr/local/lib/python3.6/dist-packages/sklearn/svm/base.py:196: FutureWarning: The default value of gamma will change from 'auto' to 'scale' in version 0.22 to account better for unscaled features. Set gamma explicitly to 'auto' or 'scale' to avoid this warning.\n",
            "  \"avoid this warning.\", FutureWarning)\n",
            "/usr/local/lib/python3.6/dist-packages/sklearn/svm/base.py:196: FutureWarning: The default value of gamma will change from 'auto' to 'scale' in version 0.22 to account better for unscaled features. Set gamma explicitly to 'auto' or 'scale' to avoid this warning.\n",
            "  \"avoid this warning.\", FutureWarning)\n",
            "/usr/local/lib/python3.6/dist-packages/sklearn/svm/base.py:196: FutureWarning: The default value of gamma will change from 'auto' to 'scale' in version 0.22 to account better for unscaled features. Set gamma explicitly to 'auto' or 'scale' to avoid this warning.\n",
            "  \"avoid this warning.\", FutureWarning)\n",
            "/usr/local/lib/python3.6/dist-packages/sklearn/svm/base.py:196: FutureWarning: The default value of gamma will change from 'auto' to 'scale' in version 0.22 to account better for unscaled features. Set gamma explicitly to 'auto' or 'scale' to avoid this warning.\n",
            "  \"avoid this warning.\", FutureWarning)\n",
            "/usr/local/lib/python3.6/dist-packages/sklearn/svm/base.py:196: FutureWarning: The default value of gamma will change from 'auto' to 'scale' in version 0.22 to account better for unscaled features. Set gamma explicitly to 'auto' or 'scale' to avoid this warning.\n",
            "  \"avoid this warning.\", FutureWarning)\n"
          ],
          "name": "stderr"
        },
        {
          "output_type": "execute_result",
          "data": {
            "text/html": [
              "<div>\n",
              "<style scoped>\n",
              "    .dataframe tbody tr th:only-of-type {\n",
              "        vertical-align: middle;\n",
              "    }\n",
              "\n",
              "    .dataframe tbody tr th {\n",
              "        vertical-align: top;\n",
              "    }\n",
              "\n",
              "    .dataframe thead th {\n",
              "        text-align: right;\n",
              "    }\n",
              "</style>\n",
              "<table border=\"1\" class=\"dataframe\">\n",
              "  <thead>\n",
              "    <tr style=\"text-align: right;\">\n",
              "      <th></th>\n",
              "      <th>CV Scores</th>\n",
              "    </tr>\n",
              "  </thead>\n",
              "  <tbody>\n",
              "    <tr>\n",
              "      <th>Support Vector Machine</th>\n",
              "      <td>0.830561</td>\n",
              "    </tr>\n",
              "    <tr>\n",
              "      <th>Logistec Regression</th>\n",
              "      <td>0.813739</td>\n",
              "    </tr>\n",
              "    <tr>\n",
              "      <th>Random Forest</th>\n",
              "      <td>0.789057</td>\n",
              "    </tr>\n",
              "  </tbody>\n",
              "</table>\n",
              "</div>"
            ],
            "text/plain": [
              "                        CV Scores\n",
              "Support Vector Machine   0.830561\n",
              "Logistec Regression      0.813739\n",
              "Random Forest            0.789057"
            ]
          },
          "metadata": {
            "tags": []
          },
          "execution_count": 17
        },
        {
          "output_type": "display_data",
          "data": {
            "image/png": "[encoded data removed]",
            "text/plain": [
              "<Figure size 864x288 with 2 Axes>"
            ]
          },
          "metadata": {
            "tags": []
          }
        },
        {
          "output_type": "display_data",
          "data": {
            "image/png": "[encoded data removed]",
            "text/plain": [
              "<Figure size 864x288 with 2 Axes>"
            ]
          },
          "metadata": {
            "tags": []
          }
        }
      ]
    },
    {
      "cell_type": "code",
      "metadata": {
        "id": "KLZNVfTGg4sZ",
        "colab_type": "code",
        "outputId": "9535ec07-03fd-4347-f8a2-e3b744f994b5",
        "colab": {
          "base_uri": "https://localhost:8080/",
          "height": 130
        }
      },
      "source": [
        "train_set['Sex'].head()\n"
      ],
      "execution_count": 0,
      "outputs": [
        {
          "output_type": "execute_result",
          "data": {
            "text/plain": [
              "0    1\n",
              "1    0\n",
              "2    0\n",
              "3    0\n",
              "4    1\n",
              "Name: Sex, dtype: int64"
            ]
          },
          "metadata": {
            "tags": []
          },
          "execution_count": 39
        }
      ]
    }
  ]
}